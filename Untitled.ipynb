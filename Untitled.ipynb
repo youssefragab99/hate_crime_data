{
 "cells": [
  {
   "cell_type": "markdown",
   "metadata": {},
   "source": [
    "# Crime project report \n",
    "\n",
    "In this report, we are going to examine hate crime data from the United States between the years of 1991-2020. "
   ]
  },
  {
   "cell_type": "code",
   "execution_count": 70,
   "metadata": {},
   "outputs": [],
   "source": [
    "import pandas as pd \n",
    "import seaborn as sns \n",
    "import sklearn\n",
    "import matplotlib as plt\n",
    "from matplotlib import colors\n",
    "from matplotlib import pyplot\n",
    "import squarify\n",
    "\n",
    "import pyspark \n",
    "from pyspark import SparkConf, SparkContext\n",
    "from pyspark.sql import SparkSession"
   ]
  },
  {
   "cell_type": "code",
   "execution_count": 2,
   "metadata": {},
   "outputs": [],
   "source": [
    "spark = SparkSession.builder \\\n",
    "    .master('local') \\\n",
    "    .appName('crime_project') \\\n",
    "    .getOrCreate()"
   ]
  },
  {
   "cell_type": "code",
   "execution_count": 3,
   "metadata": {},
   "outputs": [
    {
     "name": "stderr",
     "output_type": "stream",
     "text": [
      "/Users/youssefragab/opt/miniconda3/lib/python3.8/site-packages/IPython/core/interactiveshell.py:3145: DtypeWarning: Columns (19) have mixed types.Specify dtype option on import or set low_memory=False.\n",
      "  has_raised = await self.run_ast_nodes(code_ast.body, cell_name,\n"
     ]
    }
   ],
   "source": [
    "df = pd.read_csv('hate_crime/hate_crime.csv')"
   ]
  },
  {
   "cell_type": "code",
   "execution_count": 4,
   "metadata": {},
   "outputs": [
    {
     "data": {
      "text/html": [
       "<div>\n",
       "<style scoped>\n",
       "    .dataframe tbody tr th:only-of-type {\n",
       "        vertical-align: middle;\n",
       "    }\n",
       "\n",
       "    .dataframe tbody tr th {\n",
       "        vertical-align: top;\n",
       "    }\n",
       "\n",
       "    .dataframe thead th {\n",
       "        text-align: right;\n",
       "    }\n",
       "</style>\n",
       "<table border=\"1\" class=\"dataframe\">\n",
       "  <thead>\n",
       "    <tr style=\"text-align: right;\">\n",
       "      <th></th>\n",
       "      <th>INCIDENT_ID</th>\n",
       "      <th>DATA_YEAR</th>\n",
       "      <th>ORI</th>\n",
       "      <th>PUB_AGENCY_NAME</th>\n",
       "      <th>PUB_AGENCY_UNIT</th>\n",
       "      <th>AGENCY_TYPE_NAME</th>\n",
       "      <th>STATE_ABBR</th>\n",
       "      <th>STATE_NAME</th>\n",
       "      <th>DIVISION_NAME</th>\n",
       "      <th>REGION_NAME</th>\n",
       "      <th>...</th>\n",
       "      <th>OFFENDER_RACE</th>\n",
       "      <th>OFFENDER_ETHNICITY</th>\n",
       "      <th>VICTIM_COUNT</th>\n",
       "      <th>OFFENSE_NAME</th>\n",
       "      <th>TOTAL_INDIVIDUAL_VICTIMS</th>\n",
       "      <th>LOCATION_NAME</th>\n",
       "      <th>BIAS_DESC</th>\n",
       "      <th>VICTIM_TYPES</th>\n",
       "      <th>MULTIPLE_OFFENSE</th>\n",
       "      <th>MULTIPLE_BIAS</th>\n",
       "    </tr>\n",
       "  </thead>\n",
       "  <tbody>\n",
       "    <tr>\n",
       "      <th>0</th>\n",
       "      <td>3015</td>\n",
       "      <td>1991</td>\n",
       "      <td>AR0040200</td>\n",
       "      <td>Rogers</td>\n",
       "      <td>NaN</td>\n",
       "      <td>City</td>\n",
       "      <td>AR</td>\n",
       "      <td>Arkansas</td>\n",
       "      <td>West South Central</td>\n",
       "      <td>South</td>\n",
       "      <td>...</td>\n",
       "      <td>White</td>\n",
       "      <td>NaN</td>\n",
       "      <td>1</td>\n",
       "      <td>Intimidation</td>\n",
       "      <td>1.0</td>\n",
       "      <td>Highway/Road/Alley/Street/Sidewalk</td>\n",
       "      <td>Anti-Black or African American</td>\n",
       "      <td>Individual</td>\n",
       "      <td>S</td>\n",
       "      <td>S</td>\n",
       "    </tr>\n",
       "    <tr>\n",
       "      <th>1</th>\n",
       "      <td>3016</td>\n",
       "      <td>1991</td>\n",
       "      <td>AR0290100</td>\n",
       "      <td>Hope</td>\n",
       "      <td>NaN</td>\n",
       "      <td>City</td>\n",
       "      <td>AR</td>\n",
       "      <td>Arkansas</td>\n",
       "      <td>West South Central</td>\n",
       "      <td>South</td>\n",
       "      <td>...</td>\n",
       "      <td>Black or African American</td>\n",
       "      <td>NaN</td>\n",
       "      <td>1</td>\n",
       "      <td>Simple Assault</td>\n",
       "      <td>1.0</td>\n",
       "      <td>Highway/Road/Alley/Street/Sidewalk</td>\n",
       "      <td>Anti-White</td>\n",
       "      <td>Individual</td>\n",
       "      <td>S</td>\n",
       "      <td>S</td>\n",
       "    </tr>\n",
       "    <tr>\n",
       "      <th>2</th>\n",
       "      <td>43</td>\n",
       "      <td>1991</td>\n",
       "      <td>AR0350100</td>\n",
       "      <td>Pine Bluff</td>\n",
       "      <td>NaN</td>\n",
       "      <td>City</td>\n",
       "      <td>AR</td>\n",
       "      <td>Arkansas</td>\n",
       "      <td>West South Central</td>\n",
       "      <td>South</td>\n",
       "      <td>...</td>\n",
       "      <td>Black or African American</td>\n",
       "      <td>NaN</td>\n",
       "      <td>1</td>\n",
       "      <td>Aggravated Assault</td>\n",
       "      <td>1.0</td>\n",
       "      <td>Residence/Home</td>\n",
       "      <td>Anti-Black or African American</td>\n",
       "      <td>Individual</td>\n",
       "      <td>S</td>\n",
       "      <td>S</td>\n",
       "    </tr>\n",
       "    <tr>\n",
       "      <th>3</th>\n",
       "      <td>44</td>\n",
       "      <td>1991</td>\n",
       "      <td>AR0350100</td>\n",
       "      <td>Pine Bluff</td>\n",
       "      <td>NaN</td>\n",
       "      <td>City</td>\n",
       "      <td>AR</td>\n",
       "      <td>Arkansas</td>\n",
       "      <td>West South Central</td>\n",
       "      <td>South</td>\n",
       "      <td>...</td>\n",
       "      <td>Black or African American</td>\n",
       "      <td>NaN</td>\n",
       "      <td>2</td>\n",
       "      <td>Aggravated Assault;Destruction/Damage/Vandalis...</td>\n",
       "      <td>1.0</td>\n",
       "      <td>Highway/Road/Alley/Street/Sidewalk</td>\n",
       "      <td>Anti-White</td>\n",
       "      <td>Individual</td>\n",
       "      <td>M</td>\n",
       "      <td>S</td>\n",
       "    </tr>\n",
       "    <tr>\n",
       "      <th>4</th>\n",
       "      <td>3017</td>\n",
       "      <td>1991</td>\n",
       "      <td>AR0350100</td>\n",
       "      <td>Pine Bluff</td>\n",
       "      <td>NaN</td>\n",
       "      <td>City</td>\n",
       "      <td>AR</td>\n",
       "      <td>Arkansas</td>\n",
       "      <td>West South Central</td>\n",
       "      <td>South</td>\n",
       "      <td>...</td>\n",
       "      <td>Black or African American</td>\n",
       "      <td>NaN</td>\n",
       "      <td>1</td>\n",
       "      <td>Aggravated Assault</td>\n",
       "      <td>1.0</td>\n",
       "      <td>Service/Gas Station</td>\n",
       "      <td>Anti-White</td>\n",
       "      <td>Individual</td>\n",
       "      <td>S</td>\n",
       "      <td>S</td>\n",
       "    </tr>\n",
       "  </tbody>\n",
       "</table>\n",
       "<p>5 rows × 28 columns</p>\n",
       "</div>"
      ],
      "text/plain": [
       "   INCIDENT_ID  DATA_YEAR        ORI PUB_AGENCY_NAME PUB_AGENCY_UNIT  \\\n",
       "0         3015       1991  AR0040200          Rogers             NaN   \n",
       "1         3016       1991  AR0290100            Hope             NaN   \n",
       "2           43       1991  AR0350100      Pine Bluff             NaN   \n",
       "3           44       1991  AR0350100      Pine Bluff             NaN   \n",
       "4         3017       1991  AR0350100      Pine Bluff             NaN   \n",
       "\n",
       "  AGENCY_TYPE_NAME STATE_ABBR STATE_NAME       DIVISION_NAME REGION_NAME  ...  \\\n",
       "0             City         AR   Arkansas  West South Central       South  ...   \n",
       "1             City         AR   Arkansas  West South Central       South  ...   \n",
       "2             City         AR   Arkansas  West South Central       South  ...   \n",
       "3             City         AR   Arkansas  West South Central       South  ...   \n",
       "4             City         AR   Arkansas  West South Central       South  ...   \n",
       "\n",
       "               OFFENDER_RACE OFFENDER_ETHNICITY VICTIM_COUNT  \\\n",
       "0                      White                NaN            1   \n",
       "1  Black or African American                NaN            1   \n",
       "2  Black or African American                NaN            1   \n",
       "3  Black or African American                NaN            2   \n",
       "4  Black or African American                NaN            1   \n",
       "\n",
       "                                        OFFENSE_NAME  \\\n",
       "0                                       Intimidation   \n",
       "1                                     Simple Assault   \n",
       "2                                 Aggravated Assault   \n",
       "3  Aggravated Assault;Destruction/Damage/Vandalis...   \n",
       "4                                 Aggravated Assault   \n",
       "\n",
       "   TOTAL_INDIVIDUAL_VICTIMS                       LOCATION_NAME  \\\n",
       "0                       1.0  Highway/Road/Alley/Street/Sidewalk   \n",
       "1                       1.0  Highway/Road/Alley/Street/Sidewalk   \n",
       "2                       1.0                      Residence/Home   \n",
       "3                       1.0  Highway/Road/Alley/Street/Sidewalk   \n",
       "4                       1.0                 Service/Gas Station   \n",
       "\n",
       "                        BIAS_DESC  VICTIM_TYPES MULTIPLE_OFFENSE MULTIPLE_BIAS  \n",
       "0  Anti-Black or African American    Individual                S             S  \n",
       "1                      Anti-White    Individual                S             S  \n",
       "2  Anti-Black or African American    Individual                S             S  \n",
       "3                      Anti-White    Individual                M             S  \n",
       "4                      Anti-White    Individual                S             S  \n",
       "\n",
       "[5 rows x 28 columns]"
      ]
     },
     "execution_count": 4,
     "metadata": {},
     "output_type": "execute_result"
    }
   ],
   "source": [
    "df.head()"
   ]
  },
  {
   "cell_type": "code",
   "execution_count": 5,
   "metadata": {},
   "outputs": [
    {
     "data": {
      "text/plain": [
       "219073"
      ]
     },
     "execution_count": 5,
     "metadata": {},
     "output_type": "execute_result"
    }
   ],
   "source": [
    "len(df)"
   ]
  },
  {
   "cell_type": "markdown",
   "metadata": {},
   "source": [
    "As we can see, we have a dataframe with 28 rows and 219,073 rows. The first thing we are going to do is to do some date exploration to find out more about the data.\n",
    "\n",
    "### Data Exploration"
   ]
  },
  {
   "cell_type": "code",
   "execution_count": 6,
   "metadata": {},
   "outputs": [],
   "source": [
    "full_data = spark.read.csv('hate_crime/hate_crime.csv', header = True)"
   ]
  },
  {
   "cell_type": "code",
   "execution_count": 7,
   "metadata": {},
   "outputs": [],
   "source": [
    "full_data.createOrReplaceTempView('full_data')"
   ]
  },
  {
   "cell_type": "markdown",
   "metadata": {},
   "source": [
    "First, we are going to see how many entries we have in each year: "
   ]
  },
  {
   "cell_type": "code",
   "execution_count": 8,
   "metadata": {},
   "outputs": [
    {
     "name": "stdout",
     "output_type": "stream",
     "text": [
      "+----+------------------+\n",
      "|YEAR|INCIDENTS_PER_YEAR|\n",
      "+----+------------------+\n",
      "|1991|              4589|\n",
      "|1992|              6667|\n",
      "|1993|              7608|\n",
      "|1994|              5954|\n",
      "|1995|              7950|\n",
      "|1996|              8790|\n",
      "|1997|              8107|\n",
      "|1998|              7902|\n",
      "|1999|              7944|\n",
      "|2000|              8219|\n",
      "|2001|              9730|\n",
      "|2002|              7485|\n",
      "|2003|              7545|\n",
      "|2004|              7685|\n",
      "|2005|              7411|\n",
      "|2006|              7715|\n",
      "|2007|              7625|\n",
      "|2008|              8039|\n",
      "|2009|              6613|\n",
      "|2010|              6633|\n",
      "|2011|              6299|\n",
      "|2012|              6594|\n",
      "|2013|              6044|\n",
      "|2014|              5599|\n",
      "|2015|              5871|\n",
      "|2016|              6276|\n",
      "|2017|              7321|\n",
      "|2018|              7171|\n",
      "|2019|              7892|\n",
      "|2020|              9795|\n",
      "+----+------------------+\n",
      "\n"
     ]
    }
   ],
   "source": [
    "incidents_year = spark.sql(\"SELECT DATA_YEAR AS YEAR, COUNT(INCIDENT_ID) AS INCIDENTS_PER_YEAR FROM FULL_DATA GROUP BY DATA_YEAR ORDER BY DATA_YEAR ASC\")\n",
    "incidents_year.show(30)\n",
    "\n",
    "pd_incidents_year = incidents_year.toPandas()"
   ]
  },
  {
   "cell_type": "code",
   "execution_count": 72,
   "metadata": {},
   "outputs": [
    {
     "data": {
      "text/plain": [
       "<AxesSubplot:xlabel='YEAR', ylabel='INCIDENTS_PER_YEAR'>"
      ]
     },
     "execution_count": 72,
     "metadata": {},
     "output_type": "execute_result"
    },
    {
     "data": {
      "image/png": "[encoded data removed]",
      "text/plain": [
       "<Figure size 1080x1080 with 1 Axes>"
      ]
     },
     "metadata": {
      "needs_background": "light"
     },
     "output_type": "display_data"
    }
   ],
   "source": [
    "plt.pyplot.figure(figsize=(15,15))\n",
    "sns.barplot(x = 'YEAR',\n",
    "            y = 'INCIDENTS_PER_YEAR',\n",
    "            data = pd_incidents_year,\n",
    "            color = 'blue')"
   ]
  },
  {
   "cell_type": "markdown",
   "metadata": {},
   "source": [
    "We can see from the bar plot that there is a lot of variation in the data. We have a peak around 2001, which is likely to correspond with the anti-Muslim sentiment that came with 9/11. The crimes stabilized until 2008, which is when the US got it's first Black president. And then we see the trend reversed, and hate crimes start going up again around 2016, which is when Barack Obama was replaced by Donald Trump in the White House. We are also currently experience a peak in hate crimes in the past 30 years. \n",
    "\n",
    "Next, it is interesting to see what different victim groups the data mentions, and then we can check to see which group had the most hate crimes against them for a particular year. "
   ]
  },
  {
   "cell_type": "code",
   "execution_count": 11,
   "metadata": {},
   "outputs": [
    {
     "name": "stdout",
     "output_type": "stream",
     "text": [
      "+------------------------------------------------------------------------------------------------------+\n",
      "|BIAS_DESC                                                                                             |\n",
      "+------------------------------------------------------------------------------------------------------+\n",
      "|Anti-Female;Anti-Mental Disability;Anti-White                                                         |\n",
      "|Anti-Black or African American;Anti-Transgender                                                       |\n",
      "|Anti-Black or African American;Anti-Mormon                                                            |\n",
      "|Anti-Asian;Anti-Jewish                                                                                |\n",
      "|Anti-Lesbian, Gay, Bisexual, or Transgender (Mixed Group);Anti-Other Race/Ethnicity/Ancestry          |\n",
      "|Anti-Black or African American;Anti-Female                                                            |\n",
      "|Anti-Bisexual;Anti-Jewish                                                                             |\n",
      "|Anti-Jewish                                                                                           |\n",
      "|Anti-Islamic (Muslim);Anti-Other Religion                                                             |\n",
      "|Anti-Female;Anti-White                                                                                |\n",
      "|Anti-Hispanic or Latino;Anti-Male                                                                     |\n",
      "|Anti-Lesbian, Gay, Bisexual, or Transgender (Mixed Group)                                             |\n",
      "|Anti-Black or African American;Anti-Other Religion                                                    |\n",
      "|Anti-Black or African American;Anti-Gay (Male);Anti-Islamic (Muslim);Anti-Jewish;Anti-Lesbian (Female)|\n",
      "|Anti-Atheism/Agnosticism                                                                              |\n",
      "|Anti-Asian;Anti-Islamic (Muslim)                                                                      |\n",
      "|Anti-Heterosexual;Anti-White                                                                          |\n",
      "|Anti-Hispanic or Latino;Anti-Lesbian, Gay, Bisexual, or Transgender (Mixed Group)                     |\n",
      "|Anti-Asian;Anti-White                                                                                 |\n",
      "|Anti-Black or African American                                                                        |\n",
      "+------------------------------------------------------------------------------------------------------+\n",
      "only showing top 20 rows\n",
      "\n"
     ]
    }
   ],
   "source": [
    "spark.sql(\"SELECT DISTINCT(BIAS_DESC) FROM FULL_DATA\").show(truncate = False)"
   ]
  },
  {
   "cell_type": "markdown",
   "metadata": {},
   "source": [
    "So for the bias or racial motivation, the data is collected as a list of different biases that were present in the crime. We can check to see how many different combinations of biases we have in the data:"
   ]
  },
  {
   "cell_type": "code",
   "execution_count": 12,
   "metadata": {},
   "outputs": [
    {
     "name": "stdout",
     "output_type": "stream",
     "text": [
      "+---------------------------------------------------------+-----+\n",
      "|BIAS_DESC                                                |count|\n",
      "+---------------------------------------------------------+-----+\n",
      "|Anti-Black or African American                           |74646|\n",
      "|Anti-Jewish                                              |28006|\n",
      "|Anti-White                                               |25097|\n",
      "|Anti-Gay (Male)                                          |21830|\n",
      "|Anti-Hispanic or Latino                                  |14020|\n",
      "|Anti-Other Race/Ethnicity/Ancestry                       |10751|\n",
      "|Anti-Lesbian, Gay, Bisexual, or Transgender (Mixed Group)|6680 |\n",
      "|Anti-Asian                                               |6419 |\n",
      "|Anti-Multiple Races, Group                               |5212 |\n",
      "|Anti-Lesbian (Female)                                    |4506 |\n",
      "|Anti-Islamic (Muslim)                                    |3910 |\n",
      "|Anti-Other Religion                                      |3518 |\n",
      "|Anti-American Indian or Alaska Native                    |2365 |\n",
      "|Anti-Catholic                                            |1618 |\n",
      "|Anti-Arab                                                |1265 |\n",
      "|Anti-Protestant                                          |1251 |\n",
      "|Anti-Multiple Religions, Group                           |1191 |\n",
      "|Anti-Mental Disability                                   |1152 |\n",
      "|Anti-Transgender                                         |877  |\n",
      "|Anti-Physical Disability                                 |684  |\n",
      "|Anti-Bisexual                                            |581  |\n",
      "|Anti-Heterosexual                                        |579  |\n",
      "+---------------------------------------------------------+-----+\n",
      "\n"
     ]
    }
   ],
   "source": [
    "full_data.select('BIAS_DESC') \\\n",
    "    .groupBy('BIAS_DESC') \\\n",
    "    .count() \\\n",
    "    .orderBy('count', ascending = False) \\\n",
    "    .filter('count > 500') \\\n",
    "    .show(40,truncate = False)"
   ]
  },
  {
   "cell_type": "code",
   "execution_count": 53,
   "metadata": {},
   "outputs": [
    {
     "name": "stdout",
     "output_type": "stream",
     "text": [
      "+------------------------------+---------+------------------------+\n",
      "|VICTIM_GROUP                  |DATA_YEAR|max(NUMBER_OF_INCIDENTS)|\n",
      "+------------------------------+---------+------------------------+\n",
      "|Anti-Black or African American|1991     |1624                    |\n",
      "|Anti-Black or African American|1992     |2312                    |\n",
      "|Anti-Black or African American|1993     |2823                    |\n",
      "|Anti-Black or African American|1994     |2178                    |\n",
      "|Anti-Black or African American|1995     |2989                    |\n",
      "|Anti-Black or African American|1996     |3676                    |\n",
      "|Anti-Black or African American|1997     |3146                    |\n",
      "|Anti-Black or African American|1998     |2966                    |\n",
      "|Anti-Black or African American|1999     |2984                    |\n",
      "|Anti-Black or African American|2000     |2937                    |\n",
      "|Anti-Black or African American|2001     |2920                    |\n",
      "|Anti-Black or African American|2002     |2506                    |\n",
      "|Anti-Black or African American|2003     |2572                    |\n",
      "|Anti-Black or African American|2004     |2758                    |\n",
      "|Anti-Black or African American|2005     |2669                    |\n",
      "|Anti-Black or African American|2006     |2631                    |\n",
      "|Anti-Black or African American|2007     |2673                    |\n",
      "|Anti-Black or African American|2008     |2951                    |\n",
      "|Anti-Black or African American|2009     |2297                    |\n",
      "|Anti-Black or African American|2010     |2202                    |\n",
      "|Anti-Black or African American|2011     |2099                    |\n",
      "|Anti-Black or African American|2012     |2059                    |\n",
      "|Anti-Black or African American|2013     |1908                    |\n",
      "|Anti-Black or African American|2014     |1647                    |\n",
      "|Anti-Black or African American|2015     |1756                    |\n",
      "|Anti-Black or African American|2016     |1771                    |\n",
      "|Anti-Black or African American|2017     |2059                    |\n",
      "|Anti-Black or African American|2018     |1947                    |\n",
      "|Anti-Black or African American|2019     |2181                    |\n",
      "|Anti-Black or African American|2020     |3405                    |\n",
      "+------------------------------+---------+------------------------+\n",
      "\n"
     ]
    }
   ],
   "source": [
    "spark.sql(\"\"\"\n",
    "    SELECT first(BIAS_DESC) AS VICTIM_GROUP, DATA_YEAR, max(NUMBER_OF_INCIDENTS)\n",
    "    FROM (SELECT BIAS_DESC, DATA_YEAR, COUNT(DATA_YEAR) AS NUMBER_OF_INCIDENTS \n",
    "        FROM FULL_DATA \n",
    "        GROUP BY BIAS_DESC, DATA_YEAR\n",
    "        ORDER BY DATA_YEAR ASC, NUMBER_OF_INCIDENTS DESC)\n",
    "    GROUP BY DATA_YEAR\n",
    "    ORDER BY DATA_YEAR ASC\n",
    "\"\"\").show(30, False)"
   ]
  },
  {
   "cell_type": "markdown",
   "metadata": {},
   "source": [
    "Based on this query, we can see that for all years since 1991, there were more hate crimes against African-Americans than any other groups. It is also interesting to check the next highest group for each year. "
   ]
  },
  {
   "cell_type": "code",
   "execution_count": 52,
   "metadata": {},
   "outputs": [
    {
     "name": "stdout",
     "output_type": "stream",
     "text": [
      "+----------------------------------+---------+------------------------+\n",
      "|first(BIAS_DESC)                  |DATA_YEAR|max(NUMBER_OF_INCIDENTS)|\n",
      "+----------------------------------+---------+------------------------+\n",
      "|Anti-White                        |1991     |837                     |\n",
      "|Anti-White                        |1992     |1349                    |\n",
      "|Anti-White                        |1993     |1476                    |\n",
      "|Anti-White                        |1994     |1014                    |\n",
      "|Anti-White                        |1995     |1228                    |\n",
      "|Anti-Jewish                       |1996     |1109                    |\n",
      "|Anti-Jewish                       |1997     |1088                    |\n",
      "|Anti-Jewish                       |1998     |1087                    |\n",
      "|Anti-Jewish                       |1999     |1112                    |\n",
      "|Anti-Jewish                       |2000     |1121                    |\n",
      "|Anti-Other Race/Ethnicity/Ancestry|2001     |1251                    |\n",
      "|Anti-Jewish                       |2002     |938                     |\n",
      "|Anti-Jewish                       |2003     |931                     |\n",
      "|Anti-Jewish                       |2004     |965                     |\n",
      "|Anti-Jewish                       |2005     |935                     |\n",
      "|Anti-Jewish                       |2006     |967                     |\n",
      "|Anti-Jewish                       |2007     |972                     |\n",
      "|Anti-Jewish                       |2008     |1036                    |\n",
      "|Anti-Jewish                       |2009     |932                     |\n",
      "|Anti-Jewish                       |2010     |887                     |\n",
      "|Anti-Jewish                       |2011     |769                     |\n",
      "|Anti-Jewish                       |2012     |869                     |\n",
      "|Anti-Gay (Male)                   |2013     |759                     |\n",
      "|Anti-Jewish                       |2014     |613                     |\n",
      "|Anti-Gay (Male)                   |2015     |674                     |\n",
      "|Anti-White                        |2016     |738                     |\n",
      "|Anti-Jewish                       |2017     |956                     |\n",
      "|Anti-Jewish                       |2018     |848                     |\n",
      "|Anti-Jewish                       |2019     |1054                    |\n",
      "|Anti-White                        |2020     |1090                    |\n",
      "+----------------------------------+---------+------------------------+\n",
      "\n"
     ]
    }
   ],
   "source": [
    "spark.sql(\"\"\"\n",
    "    SELECT first(BIAS_DESC) AS VICTIM_GROUP, DATA_YEAR, max(NUMBER_OF_INCIDENTS)\n",
    "    FROM (SELECT BIAS_DESC, DATA_YEAR, COUNT(DATA_YEAR) AS NUMBER_OF_INCIDENTS \n",
    "        FROM FULL_DATA \n",
    "        GROUP BY BIAS_DESC, DATA_YEAR\n",
    "        ORDER BY DATA_YEAR ASC, NUMBER_OF_INCIDENTS DESC)\n",
    "    WHERE BIAS_DESC NOT LIKE 'Anti-Black or African American'\n",
    "    GROUP BY DATA_YEAR\n",
    "    ORDER BY DATA_YEAR ASC\n",
    "\"\"\").show(30, False)"
   ]
  },
  {
   "cell_type": "markdown",
   "metadata": {},
   "source": [
    "For the most part, the second largest victim groups for each year are White and Jewish. \n",
    "\n",
    "We can also segment the data by location. So next, we are going to check which states have the most number of hate crimes:"
   ]
  },
  {
   "cell_type": "code",
   "execution_count": 81,
   "metadata": {},
   "outputs": [
    {
     "data": {
      "text/plain": [
       "<AxesSubplot:>"
      ]
     },
     "execution_count": 81,
     "metadata": {},
     "output_type": "execute_result"
    },
    {
     "data": {
      "image/png": "[encoded data removed]",
      "text/plain": [
       "<Figure size 1080x1080 with 1 Axes>"
      ]
     },
     "metadata": {
      "needs_background": "light"
     },
     "output_type": "display_data"
    }
   ],
   "source": [
    "incidents_by_location = spark.sql(\"\"\"\n",
    "    SELECT STATE_NAME, count(STATE_NAME) AS NUMBER_OF_INCIDENTS\n",
    "    FROM FULL_DATA\n",
    "    GROUP BY STATE_NAME\n",
    "    ORDER BY NUMBER_OF_INCIDENTS DESC\n",
    "\"\"\").toPandas()\n",
    "\n",
    "\n",
    "norm = plt.colors.Normalize(vmin = min(incidents_by_location.NUMBER_OF_INCIDENTS), vmax = max(incidents_by_location.NUMBER_OF_INCIDENTS))\n",
    "colors = [plt.cm.BuGn(norm(value)) for value in incidents_by_location.NUMBER_OF_INCIDENTS]\n",
    "plt.pyplot.figure(figsize=(15,15))\n",
    "squarify.plot(label = incidents_by_location.STATE_NAME, sizes = incidents_by_location.NUMBER_OF_INCIDENTS, color = colors)"
   ]
  },
  {
   "cell_type": "markdown",
   "metadata": {},
   "source": [
    "What is most obvious in this plot is the discrepancy in hate crime numbers by state. There are 3 states that have the most number of incidents: California, New Jersey, and New York. \n",
    "\n",
    "The next thing we can investigate is finding out the group that is the victim of the most hate crimes in every state: "
   ]
  },
  {
   "cell_type": "code",
   "execution_count": 90,
   "metadata": {},
   "outputs": [
    {
     "name": "stdout",
     "output_type": "stream",
     "text": [
      "+--------------------+------------------------------+------------------------+\n",
      "|STATE_NAME          |first(BIAS_DESC)              |max(NUMBER_OF_INCIDENTS)|\n",
      "+--------------------+------------------------------+------------------------+\n",
      "|Alabama             |Anti-Black or African American|108                     |\n",
      "|Alaska              |Anti-Black or African American|86                      |\n",
      "|Arizona             |Anti-Black or African American|2302                    |\n",
      "|Arkansas            |Anti-White                    |375                     |\n",
      "|California          |Anti-Black or African American|11309                   |\n",
      "|Colorado            |Anti-Black or African American|1341                    |\n",
      "|Connecticut         |Anti-Black or African American|1319                    |\n",
      "|Delaware            |Anti-Black or African American|413                     |\n",
      "|District of Columbia|Anti-Gay (Male)               |604                     |\n",
      "|Federal             |Anti-Black or African American|148                     |\n",
      "|Florida             |Anti-Black or African American|1788                    |\n",
      "|Georgia             |Anti-Black or African American|476                     |\n",
      "|Guam                |Anti-Asian                    |2                       |\n",
      "|Hawaii              |Anti-White                    |39                      |\n",
      "|Idaho               |Anti-Black or African American|309                     |\n",
      "|Illinois            |Anti-Black or African American|2167                    |\n",
      "|Indiana             |Anti-Black or African American|882                     |\n",
      "|Iowa                |Anti-Black or African American|440                     |\n",
      "|Kansas              |Anti-Black or African American|761                     |\n",
      "|Kentucky            |Anti-Black or African American|1232                    |\n",
      "|Louisiana           |Anti-Black or African American|191                     |\n",
      "|Maine               |Anti-Black or African American|491                     |\n",
      "|Maryland            |Anti-Black or African American|2771                    |\n",
      "|Massachusetts       |Anti-Black or African American|3409                    |\n",
      "|Michigan            |Anti-Black or African American|4689                    |\n",
      "|Minnesota           |Anti-Black or African American|1855                    |\n",
      "|Mississippi         |Anti-Physical Disability      |52                      |\n",
      "|Missouri            |Anti-Black or African American|1619                    |\n",
      "|Montana             |Anti-White                    |140                     |\n",
      "|Nebraska            |Anti-Black or African American|374                     |\n",
      "|Nevada              |Anti-Black or African American|603                     |\n",
      "|New Hampshire       |Anti-Black or African American|210                     |\n",
      "|New Jersey          |Anti-Black or African American|7912                    |\n",
      "|New Mexico          |Anti-Black or African American|148                     |\n",
      "|New York            |Anti-Jewish                   |7742                    |\n",
      "|North Carolina      |Anti-Black or African American|1220                    |\n",
      "|North Dakota        |Anti-Black or African American|103                     |\n",
      "|Ohio                |Anti-Black or African American|3156                    |\n",
      "|Oklahoma            |Anti-Black or African American|700                     |\n",
      "|Oregon              |Anti-Black or African American|1367                    |\n",
      "|Pennsylvania        |Anti-Black or African American|1658                    |\n",
      "|Rhode Island        |Anti-Black or African American|250                     |\n",
      "|South Carolina      |Anti-Black or African American|786                     |\n",
      "|South Dakota        |Anti-White                    |134                     |\n",
      "|Tennessee           |Anti-Black or African American|1446                    |\n",
      "|Texas               |Anti-Black or African American|3095                    |\n",
      "|Utah                |Anti-White                    |338                     |\n",
      "|Vermont             |Anti-Black or African American|167                     |\n",
      "|Virginia            |Anti-Black or African American|2146                    |\n",
      "|Washington          |Anti-Black or African American|2750                    |\n",
      "|West Virginia       |Anti-White                    |341                     |\n",
      "|Wisconsin           |Anti-Black or African American|450                     |\n",
      "+--------------------+------------------------------+------------------------+\n",
      "only showing top 52 rows\n",
      "\n"
     ]
    }
   ],
   "source": [
    "spark.sql(\"\"\"\n",
    "    SELECT STATE_NAME, first(BIAS_DESC), max(NUMBER_OF_INCIDENTS)  \n",
    "    FROM (SELECT BIAS_DESC, STATE_NAME, COUNT(STATE_NAME) AS NUMBER_OF_INCIDENTS\n",
    "        FROM FULL_DATA \n",
    "        GROUP BY STATE_NAME, BIAS_DESC\n",
    "        ORDER BY STATE_NAME ASC, NUMBER_OF_INCIDENTS DESC)\n",
    "    GROUP BY STATE_NAME\n",
    "    ORDER BY STATE_NAME ASC\n",
    "\"\"\").show(52, False)"
   ]
  },
  {
   "cell_type": "markdown",
   "metadata": {},
   "source": [
    "As we had previously seen, in most states, the groups that have suffered the most hate crimes are African-Americans. Some states however, have other groups and so we should check to see what those states are:"
   ]
  },
  {
   "cell_type": "code",
   "execution_count": 96,
   "metadata": {},
   "outputs": [
    {
     "name": "stdout",
     "output_type": "stream",
     "text": [
      "+--------------------+------------------------+-------------------+\n",
      "|STATE_NAME          |BIAS_DESC               |NUMBER_OF_INCIDENTS|\n",
      "+--------------------+------------------------+-------------------+\n",
      "|Arkansas            |Anti-White              |375                |\n",
      "|District of Columbia|Anti-Gay (Male)         |604                |\n",
      "|Guam                |Anti-Asian              |2                  |\n",
      "|Hawaii              |Anti-White              |39                 |\n",
      "|Mississippi         |Anti-Physical Disability|52                 |\n",
      "|Montana             |Anti-White              |140                |\n",
      "|New York            |Anti-Jewish             |7742               |\n",
      "|South Dakota        |Anti-White              |134                |\n",
      "|Utah                |Anti-White              |338                |\n",
      "|West Virginia       |Anti-White              |341                |\n",
      "+--------------------+------------------------+-------------------+\n",
      "\n"
     ]
    }
   ],
   "source": [
    "spark.sql(\"\"\"\n",
    "    SELECT STATE_NAME, BIAS_DESC, NUMBER_OF_INCIDENTS     \n",
    "    FROM  (SELECT STATE_NAME, first(BIAS_DESC) AS BIAS_DESC, max(NUMBER_OF_INCIDENTS) AS NUMBER_OF_INCIDENTS \n",
    "        FROM (SELECT BIAS_DESC, STATE_NAME, COUNT(STATE_NAME) AS NUMBER_OF_INCIDENTS\n",
    "            FROM FULL_DATA \n",
    "            GROUP BY STATE_NAME, BIAS_DESC\n",
    "            ORDER BY STATE_NAME ASC, NUMBER_OF_INCIDENTS DESC)        \n",
    "        GROUP BY STATE_NAME\n",
    "        ORDER BY STATE_NAME ASC)\n",
    "    WHERE BIAS_DESC NOT LIKE \"Anti-Black or African American\"\n",
    "\"\"\").show(52, False)"
   ]
  },
  {
   "cell_type": "markdown",
   "metadata": {},
   "source": [
    "Most of the states that feature in this table are relatively smaller in population. The one exception to that is New York, which has a very high number of hate crimes against Jewish people in the past 30 years. \n",
    "\n",
    "We can now investigate the different types of offenses in the dataset, we are going to focus on the top 10 types: "
   ]
  },
  {
   "cell_type": "code",
   "execution_count": 112,
   "metadata": {},
   "outputs": [],
   "source": [
    "type_of_incident = spark.sql(\"\"\"\n",
    "    SELECT OFFENSE_NAME, COUNT(INCIDENT_ID) AS NUMBER_OF_INCIDENTS\n",
    "    FROM FULL_DATA\n",
    "    GROUP BY OFFENSE_NAME\n",
    "    ORDER BY NUMBER_OF_INCIDENTS DESC\n",
    "\"\"\") \\\n",
    "    .toPandas()"
   ]
  },
  {
   "cell_type": "code",
   "execution_count": 116,
   "metadata": {},
   "outputs": [
    {
     "data": {
      "text/plain": [
       "<AxesSubplot:>"
      ]
     },
     "execution_count": 116,
     "metadata": {},
     "output_type": "execute_result"
    },
    {
     "data": {
      "image/png": "[encoded data removed]",
      "text/plain": [
       "<Figure size 1080x1080 with 1 Axes>"
      ]
     },
     "metadata": {
      "needs_background": "light"
     },
     "output_type": "display_data"
    }
   ],
   "source": [
    "\n",
    "\n",
    "norm = plt.colors.Normalize(vmin = min(type_of_incident.NUMBER_OF_INCIDENTS), vmax = max(type_of_incident.NUMBER_OF_INCIDENTS))\n",
    "colors = [plt.cm.BuGn(norm(value)) for value in type_of_incident.NUMBER_OF_INCIDENTS]\n",
    "plt.pyplot.figure(figsize=(15,15))\n",
    "squarify.plot(label = type_of_incident.OFFENSE_NAME[:10], sizes = incidents_by_location.NUMBER_OF_INCIDENTS[:10], color = colors)"
   ]
  },
  {
   "cell_type": "markdown",
   "metadata": {},
   "source": [
    "Again, there is a lot of variation in the data between the 10 highest offense types. We can see that the highest one is destruction of property, and the 10th highest type of offense is drug/narcotic violation."
   ]
  }
 ],
 "metadata": {
  "kernelspec": {
   "display_name": "Python 3",
   "language": "python",
   "name": "python3"
  },
  "language_info": {
   "codemirror_mode": {
    "name": "ipython",
    "version": 3
   },
   "file_extension": ".py",
   "mimetype": "text/x-python",
   "name": "python",
   "nbconvert_exporter": "python",
   "pygments_lexer": "ipython3",
   "version": "3.8.3"
  }
 },
 "nbformat": 4,
 "nbformat_minor": 4
}
